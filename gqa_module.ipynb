{
 "cells": [
  {
   "cell_type": "code",
   "execution_count": null,
   "metadata": {},
   "outputs": [],
   "source": [
    "import os\n",
    "import sys\n",
    "module_path = os.path.abspath(os.path.join('..'))\n",
    "if module_path not in sys.path:\n",
    "    sys.path.append(module_path)\n",
    "from PIL import Image\n",
    "\n",
    "def exe_gqa(imageURL, chat, interpreter, prompter, generator):\n",
    "    image = Image.open(imageURL)\n",
    "    image.thumbnail((640,640),Image.Resampling.LANCZOS)\n",
    "    init_state = dict(\n",
    "    IMAGE=image.convert('RGB')\n",
    "    )\n",
    "\n",
    "    question = chat\n",
    "    prog,_ = generator.generate(dict(question=question))\n",
    "    result, prog_state, html_str = interpreter.execute(prog,init_state,inspect=True)\n",
    "    return html_str\n",
    "\n"
   ]
  }
 ],
 "metadata": {
  "kernelspec": {
   "display_name": "Python 3 (ipykernel)",
   "language": "python",
   "name": "python3"
  },
  "language_info": {
   "codemirror_mode": {
    "name": "ipython",
    "version": 3
   },
   "file_extension": ".py",
   "mimetype": "text/x-python",
   "name": "python",
   "nbconvert_exporter": "python",
   "pygments_lexer": "ipython3",
   "version": "3.11.5"
  }
 },
 "nbformat": 4,
 "nbformat_minor": 4
}
