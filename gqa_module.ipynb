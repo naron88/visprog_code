{
 "cells": [
  {
   "cell_type": "code",
   "execution_count": null,
   "metadata": {},
   "outputs": [],
   "source": [
    "import os\n",
    "import sys\n",
    "module_path = os.path.abspath(os.path.join('..'))\n",
    "if module_path not in sys.path:\n",
    "    sys.path.append(module_path)\n",
    "%env OPENAI_API_KEY=<Enter you key here>\n",
    "from PIL import Image\n",
    "from IPython.core.display import HTML\n",
    "from functools import partial\n",
    "\n",
    "from engine.utils import ProgramGenerator, ProgramInterpreter\n",
    "from prompts.gqa import create_prompt\n",
    "\n",
    "def exe_gqa(imageURL, chat, interpreter, prompter, generator):\n",
    "    image = Image.open(imageURL)\n",
    "    image.thumbnail((640,640),Image.Resampling.LANCZOS)\n",
    "    init_state = dict(\n",
    "    IMAGE=image.convert('RGB')\n",
    "    )\n",
    "    #image\n",
    "    question = chat\n",
    "    # question = \"Are there more animals than people in the image?\"\n",
    "    # question = \"Localize the woman and tell me the color of her dress.\"\n",
    "    # question = \"Find and tell me the name of the animal in the image.\"\n",
    "    # question = \"How many women are to the right of the camel?\"\n",
    "    # question = \"How many women are to the left of the camel?\"\n",
    "    # question = \"Is the lamp to the left of the woman lit?\"\n",
    "    # question = \"Is there a sun in the sky?\"\n",
    "    prog,_ = generator.generate(dict(question=question))\n",
    "    #print(prog)\n",
    "    result, prog_state, html_str = interpreter.execute(prog,init_state,inspect=True)\n",
    "    return html_str\n",
    "#HTML(html_str)\n"
   ]
  }
 ],
 "metadata": {
  "kernelspec": {
   "display_name": "Python 3 (ipykernel)",
   "language": "python",
   "name": "python3"
  },
  "language_info": {
   "codemirror_mode": {
    "name": "ipython",
    "version": 3
   },
   "file_extension": ".py",
   "mimetype": "text/x-python",
   "name": "python",
   "nbconvert_exporter": "python",
   "pygments_lexer": "ipython3",
   "version": "3.11.5"
  }
 },
 "nbformat": 4,
 "nbformat_minor": 4
}
